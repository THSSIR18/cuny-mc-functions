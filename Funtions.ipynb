{
  "nbformat": 4,
  "nbformat_minor": 0,
  "metadata": {
    "colab": {
      "name": "Funtions.ipynb",
      "provenance": [],
      "authorship_tag": "ABX9TyO7/+9HN+27wNcnwsAWm+iU",
      "include_colab_link": true
    },
    "kernelspec": {
      "name": "python3",
      "display_name": "Python 3"
    }
  },
  "cells": [
    {
      "cell_type": "markdown",
      "metadata": {
        "id": "view-in-github",
        "colab_type": "text"
      },
      "source": [
        "<a href=\"https://colab.research.google.com/github/THSSIR18/cuny-mc-functions/blob/main/Funtions.ipynb\" target=\"_parent\"><img src=\"https://colab.research.google.com/assets/colab-badge.svg\" alt=\"Open In Colab\"/></a>"
      ]
    },
    {
      "cell_type": "code",
      "metadata": {
        "colab": {
          "base_uri": "https://localhost:8080/"
        },
        "id": "L1oe-HuYqwXH",
        "outputId": "0ca4881c-3b54-4ac8-e8c1-c70fbdca0934"
      },
      "source": [
        "def greeting():\r\n",
        "  print('Hello Niteen, hope you enjoy yourself')\r\n",
        "\r\n",
        "greeting()\r\n"
      ],
      "execution_count": null,
      "outputs": [
        {
          "output_type": "stream",
          "text": [
            "Hello Niteen, hope you enjoy yourself\n"
          ],
          "name": "stdout"
        }
      ]
    },
    {
      "cell_type": "code",
      "metadata": {
        "colab": {
          "base_uri": "https://localhost:8080/"
        },
        "id": "2qDQZnKjvdgm",
        "outputId": "b2a7a4d7-7ea4-419a-9ad1-1854e35ab07f"
      },
      "source": [
        "def greeting(first_name):\r\n",
        "  print('Hello ' + first_name + ', nice to meet you!')\r\n",
        "\r\n",
        "greeting('Tom')"
      ],
      "execution_count": null,
      "outputs": [
        {
          "output_type": "stream",
          "text": [
            "Hello Tom, nice to meet you!\n"
          ],
          "name": "stdout"
        }
      ]
    },
    {
      "cell_type": "code",
      "metadata": {
        "colab": {
          "base_uri": "https://localhost:8080/"
        },
        "id": "e7vDStAGvd6W",
        "outputId": "8db4ef45-c002-4175-c46a-c39e9b93347d"
      },
      "source": [
        "def greeting(first_name, last_name):\r\n",
        "  print('Hello ' + first_name + ', nice to meet you!')\r\n",
        "\r\n",
        "first_name = 'tom'\r\n",
        "last_name = 'smith'\r\n",
        "greeting(first_name.title(),last_name.title())"
      ],
      "execution_count": null,
      "outputs": [
        {
          "output_type": "stream",
          "text": [
            "Hello Tom, nice to meet you!\n"
          ],
          "name": "stdout"
        }
      ]
    },
    {
      "cell_type": "code",
      "metadata": {
        "colab": {
          "base_uri": "https://localhost:8080/",
          "height": 103
        },
        "id": "D1_PXDqNv7XN",
        "outputId": "b2eef474-3d09-4c46-f153-1b13ecdb7178"
      },
      "source": [
        "'''\r\n",
        "def invalid_choice(entry):\r\n",
        "  print('\\nYour choice of ' + bold_start + entry + bold_end + ' is not one of the options for vacation')\r\n",
        "def hawaii_choice():\r\n",
        "  print(bold_start + '\\nNice choice. You will find Hawaii a beautiful relaxing place to unwind')\r\n",
        "def florida_choice():\r\n",
        "  print(bold_start + '\\nNice choice. You will find Florida the true sunshine state.')\r\n",
        "def california_choice():\r\n",
        "  print(bold_start + '\\nNice choice. Make sure you visit Rodeo Drive')\r\n",
        "def vacation_choice():\r\n",
        "  vacation_choice = input('Please enter your choice for vacation; either Hawaii, Florida or California:')\r\n",
        "  vacation = ['Hawaii', 'California', 'Florida']\r\n",
        "\r\n",
        "\r\n",
        "bold_start = '\\033[1m'\r\n",
        "bold_end = '\\033[0m'\r\n",
        "\r\n",
        "vacation_choice()\r\n",
        "\r\n",
        "#put this into a function\r\n",
        "\r\n",
        "if vacation_choice.title() not in vacation:\r\n",
        "  invalid_choice(vacation_choice)\r\n",
        "elif vacation_choice.title() == 'Hawaii':\r\n",
        "  hawaii_choice\r\n",
        "elif vacation_choice.title() == 'California':\r\n",
        "  california_choice()\r\n",
        "else:\r\n",
        "  florida_choice()\r\n",
        "\r\n",
        "#can you explain once again why lower case f will work for florida\r\n",
        "#our goal is to bold the invalid entry \r\n",
        "'''\r\n"
      ],
      "execution_count": 1,
      "outputs": [
        {
          "output_type": "execute_result",
          "data": {
            "application/vnd.google.colaboratory.intrinsic+json": {
              "type": "string"
            },
            "text/plain": [
              "\"\\ndef invalid_choice(entry):\\n  print('\\nYour choice of ' + bold_start + entry + bold_end + ' is not one of the options for vacation')\\ndef hawaii_choice():\\n  print(bold_start + '\\nNice choice. You will find Hawaii a beautiful relaxing place to unwind')\\ndef florida_choice():\\n  print(bold_start + '\\nNice choice. You will find Florida the true sunshine state.')\\ndef california_choice():\\n  print(bold_start + '\\nNice choice. Make sure you visit Rodeo Drive')\\ndef vacation_choice():\\n  vacation_choice = input('Please enter your choice for vacation; either Hawaii, Florida or California:')\\n  vacation = ['Hawaii', 'California', 'Florida']\\n\\n\\nbold_start = '\\x1b[1m'\\nbold_end = '\\x1b[0m'\\n\\nvacation_choice()\\n\\n#put this into a function\\n\\nif vacation_choice.title() not in vacation:\\n  invalid_choice(vacation_choice)\\nelif vacation_choice.title() == 'Hawaii':\\n  hawaii_choice\\nelif vacation_choice.title() == 'California':\\n  california_choice()\\nelse:\\n  florida_choice()\\n\\n#can you explain once again why lower case f will work for florida\\n#our goal is to bold the invalid entry \\n\""
            ]
          },
          "metadata": {
            "tags": []
          },
          "execution_count": 1
        }
      ]
    },
    {
      "cell_type": "code",
      "metadata": {
        "id": "BkFf0-kbvd-r",
        "colab": {
          "base_uri": "https://localhost:8080/"
        },
        "outputId": "c6377b88-742c-4aae-d4be-2f9473526fd0"
      },
      "source": [
        "def invalid_choice(entry):\n",
        "  print('\\nYour choice of ' + \"\\033[1m\" + entry + \"\\033[0m\" + ' is not of of the options for vacation')\n",
        "def vacation_func(entry):\n",
        "  print('\\nNice choice. You will find ' + \"\\033[1m\" + entry + \"\\033[0m\" + ' a beautiful relaxing place to unwind')\n",
        "\n",
        "\n",
        "vacation_choice = input('Please enter your choice for vacation; either Hawaii, Florida or California. ')\n",
        "vacation = ['Hawaii', 'Florida', 'California']\n",
        "\n",
        "if vacation_choice.title() not in vacation:\n",
        "  invalid_choice(vacation_choice.title())\n",
        "\n",
        "else:\n",
        "  vacation_func(vacation_choice.title())"
      ],
      "execution_count": null,
      "outputs": [
        {
          "output_type": "stream",
          "text": [
            "Please enter your choice for vacation; either Hawaii, Florida or California. hello\n",
            "\n",
            "Your choice of \u001b[1mHello\u001b[0m is not of of the options for vacation\n"
          ],
          "name": "stdout"
        }
      ]
    },
    {
      "cell_type": "code",
      "metadata": {
        "id": "8WM4gBFrveBm",
        "colab": {
          "base_uri": "https://localhost:8080/"
        },
        "outputId": "695108ca-9eb4-478c-fb92-887272cf9a60"
      },
      "source": [
        "def add_numbers(num1,num2, num3):\r\n",
        "  return(num1 + num2 + num3)\r\n",
        "\r\n",
        "numbers = input('Enter three number separated by a comma ')\r\n",
        "num = numbers.split(\",\")\r\n",
        "\r\n",
        "#print('The sum of your three numbers is ' + str(add_numbers(number_1,number_2)))\r\n",
        "total = add_numbers(int(num[0]), int(num[1]), int(num[2]))\r\n",
        "\r\n",
        "print('The sum of your three numbers is ' + str(total))"
      ],
      "execution_count": null,
      "outputs": [
        {
          "output_type": "stream",
          "text": [
            "Enter three number separated by a comma 5,8,3\n",
            "The sum of your three numbers is 16\n"
          ],
          "name": "stdout"
        }
      ]
    },
    {
      "cell_type": "code",
      "metadata": {
        "id": "v1RwuZLEveEJ",
        "colab": {
          "base_uri": "https://localhost:8080/"
        },
        "outputId": "167fe963-98bd-482d-e970-258b3515cee1"
      },
      "source": [
        "def add_numbers(num1,num2):\r\n",
        "  return(num1 + num2)\r\n",
        "def minus_numbers(num1,num2):\r\n",
        "  return(num1 - num2)\r\n",
        "def multiply_numbers(num1,num2):\r\n",
        "  return(num1 * num2)\r\n",
        "def divide_numbers(num1,num2):\r\n",
        "  return(num1 / num2)\r\n",
        "\r\n",
        "numbers = input('Enter two number separated by a comma ')\r\n",
        "num = numbers.split(\",\")\r\n",
        "\r\n",
        "#print('The operation of your two numbers are ' + str(add_numbers(number_1,number_2)))\r\n",
        "total1 = add_numbers(int(num[0]), int(num[1]))\r\n",
        "total2 = minus_numbers(int(num[0]), int(num[1]))\r\n",
        "total3 = multiply_numbers(int(num[0]), int(num[1]))\r\n",
        "total4 = divide_numbers(int(num[0]), int(num[1]))\r\n",
        "\r\n",
        "print('The sum of your two numbers is ' + str(total1))\r\n",
        "print('The difference of your two numbers is ' + str(total2))\r\n",
        "print('The product of your two numbers is ' + str(total3))\r\n",
        "print('The quotient of your two numbers is ' + str(total4))\r\n"
      ],
      "execution_count": null,
      "outputs": [
        {
          "output_type": "stream",
          "text": [
            "Enter three number separated by a comma 1,1\n",
            "The sum of your two numbers is 2\n",
            "The difference of your two numbers is 0\n",
            "The product of your two numbers is 1\n",
            "The quotient of your two numbers is 1.0\n"
          ],
          "name": "stdout"
        }
      ]
    }
  ]
}