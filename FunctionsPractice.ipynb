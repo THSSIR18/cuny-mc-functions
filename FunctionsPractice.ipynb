{
  "nbformat": 4,
  "nbformat_minor": 0,
  "metadata": {
    "colab": {
      "name": "FunctionsPractice.ipynb",
      "provenance": [],
      "authorship_tag": "ABX9TyN2ViIUM3Fm6acJo4s9FSyL",
      "include_colab_link": true
    },
    "kernelspec": {
      "name": "python3",
      "display_name": "Python 3"
    }
  },
  "cells": [
    {
      "cell_type": "markdown",
      "metadata": {
        "id": "view-in-github",
        "colab_type": "text"
      },
      "source": [
        "<a href=\"https://colab.research.google.com/github/THSSIR18/cuny-mc-functions/blob/main/FunctionsPractice.ipynb\" target=\"_parent\"><img src=\"https://colab.research.google.com/assets/colab-badge.svg\" alt=\"Open In Colab\"/></a>"
      ]
    },
    {
      "cell_type": "code",
      "metadata": {
        "id": "Srx6zkO5zr2i"
      },
      "source": [
        "def gross_pay(hours, wage):\r\n",
        "  return (hours*wage)\r\n",
        "\r\n",
        "hours_worked = float(input('How many hours did you work?'))\r\n",
        "hourly_wage = float(input('Enter your hourly wage: '))\r\n",
        "\r\n",
        "grosspay = hours_worked * hourly_wage\r\n",
        "\r\n",
        "def savings():\r\n",
        "  return (0.1 * grosspay)\r\n",
        "retirement_money = 0.1 * grosspay \r\n",
        "print(retirement_money)\r\n",
        "\r\n",
        "def health_insurance(): v \r\n",
        "  return (0.05 * grosspay)\r\n",
        "amount_of_insurance = 0.05 * grosspay\r\n",
        "print(amount_of_insurance)\r\n",
        "\r\n",
        "def total_tax(fed, state):\r\n",
        "  return(0.27 * grosspay)\r\n",
        "tax_to_be_deducted = 0.27 * grosspay"
      ],
      "execution_count": null,
      "outputs": []
    }
  ]
}